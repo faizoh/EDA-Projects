{
 "cells": [
  {
   "cell_type": "markdown",
   "id": "471c43fa-a079-4767-a09d-a616507d95c3",
   "metadata": {},
   "source": [
    "# Univariate Analysis for Insurance "
   ]
  },
  {
   "cell_type": "code",
   "execution_count": 1,
   "id": "6cf93a8f-67db-440e-a95a-b70a15ba10c6",
   "metadata": {},
   "outputs": [
    {
     "data": {
      "text/html": [
       "<div>\n",
       "<style scoped>\n",
       "    .dataframe tbody tr th:only-of-type {\n",
       "        vertical-align: middle;\n",
       "    }\n",
       "\n",
       "    .dataframe tbody tr th {\n",
       "        vertical-align: top;\n",
       "    }\n",
       "\n",
       "    .dataframe thead th {\n",
       "        text-align: right;\n",
       "    }\n",
       "</style>\n",
       "<table border=\"1\" class=\"dataframe\">\n",
       "  <thead>\n",
       "    <tr style=\"text-align: right;\">\n",
       "      <th></th>\n",
       "      <th>age</th>\n",
       "      <th>sex</th>\n",
       "      <th>bmi</th>\n",
       "      <th>children</th>\n",
       "      <th>smoker</th>\n",
       "      <th>region</th>\n",
       "      <th>charges</th>\n",
       "    </tr>\n",
       "  </thead>\n",
       "  <tbody>\n",
       "    <tr>\n",
       "      <th>0</th>\n",
       "      <td>19</td>\n",
       "      <td>female</td>\n",
       "      <td>27.900</td>\n",
       "      <td>0</td>\n",
       "      <td>yes</td>\n",
       "      <td>southwest</td>\n",
       "      <td>16884.92400</td>\n",
       "    </tr>\n",
       "    <tr>\n",
       "      <th>1</th>\n",
       "      <td>18</td>\n",
       "      <td>male</td>\n",
       "      <td>33.770</td>\n",
       "      <td>1</td>\n",
       "      <td>no</td>\n",
       "      <td>southeast</td>\n",
       "      <td>1725.55230</td>\n",
       "    </tr>\n",
       "    <tr>\n",
       "      <th>2</th>\n",
       "      <td>28</td>\n",
       "      <td>male</td>\n",
       "      <td>33.000</td>\n",
       "      <td>3</td>\n",
       "      <td>no</td>\n",
       "      <td>southeast</td>\n",
       "      <td>4449.46200</td>\n",
       "    </tr>\n",
       "    <tr>\n",
       "      <th>3</th>\n",
       "      <td>33</td>\n",
       "      <td>male</td>\n",
       "      <td>22.705</td>\n",
       "      <td>0</td>\n",
       "      <td>no</td>\n",
       "      <td>northwest</td>\n",
       "      <td>21984.47061</td>\n",
       "    </tr>\n",
       "    <tr>\n",
       "      <th>4</th>\n",
       "      <td>32</td>\n",
       "      <td>male</td>\n",
       "      <td>28.880</td>\n",
       "      <td>0</td>\n",
       "      <td>no</td>\n",
       "      <td>northwest</td>\n",
       "      <td>3866.85520</td>\n",
       "    </tr>\n",
       "  </tbody>\n",
       "</table>\n",
       "</div>"
      ],
      "text/plain": [
       "   age     sex     bmi  children smoker     region      charges\n",
       "0   19  female  27.900         0    yes  southwest  16884.92400\n",
       "1   18    male  33.770         1     no  southeast   1725.55230\n",
       "2   28    male  33.000         3     no  southeast   4449.46200\n",
       "3   33    male  22.705         0     no  northwest  21984.47061\n",
       "4   32    male  28.880         0     no  northwest   3866.85520"
      ]
     },
     "execution_count": 1,
     "metadata": {},
     "output_type": "execute_result"
    }
   ],
   "source": [
    "import pandas as pd\n",
    "df = pd.read_csv(\"C://Users//Administrator//Downloads//insurance.csv\")\n",
    "df.head()"
   ]
  },
  {
   "cell_type": "code",
   "execution_count": 3,
   "id": "f18b10ff-1382-4c65-9311-8af207e4a152",
   "metadata": {},
   "outputs": [
    {
     "data": {
      "text/html": [
       "<div>\n",
       "<style scoped>\n",
       "    .dataframe tbody tr th:only-of-type {\n",
       "        vertical-align: middle;\n",
       "    }\n",
       "\n",
       "    .dataframe tbody tr th {\n",
       "        vertical-align: top;\n",
       "    }\n",
       "\n",
       "    .dataframe thead th {\n",
       "        text-align: right;\n",
       "    }\n",
       "</style>\n",
       "<table border=\"1\" class=\"dataframe\">\n",
       "  <thead>\n",
       "    <tr style=\"text-align: right;\">\n",
       "      <th></th>\n",
       "      <th>age</th>\n",
       "      <th>bmi</th>\n",
       "      <th>children</th>\n",
       "      <th>charges</th>\n",
       "    </tr>\n",
       "  </thead>\n",
       "  <tbody>\n",
       "    <tr>\n",
       "      <th>count</th>\n",
       "      <td>1338.000000</td>\n",
       "      <td>1338.000000</td>\n",
       "      <td>1338.000000</td>\n",
       "      <td>1338.000000</td>\n",
       "    </tr>\n",
       "    <tr>\n",
       "      <th>mean</th>\n",
       "      <td>39.207025</td>\n",
       "      <td>30.663397</td>\n",
       "      <td>1.094918</td>\n",
       "      <td>13270.422265</td>\n",
       "    </tr>\n",
       "    <tr>\n",
       "      <th>std</th>\n",
       "      <td>14.049960</td>\n",
       "      <td>6.098187</td>\n",
       "      <td>1.205493</td>\n",
       "      <td>12110.011237</td>\n",
       "    </tr>\n",
       "    <tr>\n",
       "      <th>min</th>\n",
       "      <td>18.000000</td>\n",
       "      <td>15.960000</td>\n",
       "      <td>0.000000</td>\n",
       "      <td>1121.873900</td>\n",
       "    </tr>\n",
       "    <tr>\n",
       "      <th>25%</th>\n",
       "      <td>27.000000</td>\n",
       "      <td>26.296250</td>\n",
       "      <td>0.000000</td>\n",
       "      <td>4740.287150</td>\n",
       "    </tr>\n",
       "    <tr>\n",
       "      <th>50%</th>\n",
       "      <td>39.000000</td>\n",
       "      <td>30.400000</td>\n",
       "      <td>1.000000</td>\n",
       "      <td>9382.033000</td>\n",
       "    </tr>\n",
       "    <tr>\n",
       "      <th>75%</th>\n",
       "      <td>51.000000</td>\n",
       "      <td>34.693750</td>\n",
       "      <td>2.000000</td>\n",
       "      <td>16639.912515</td>\n",
       "    </tr>\n",
       "    <tr>\n",
       "      <th>max</th>\n",
       "      <td>64.000000</td>\n",
       "      <td>53.130000</td>\n",
       "      <td>5.000000</td>\n",
       "      <td>63770.428010</td>\n",
       "    </tr>\n",
       "  </tbody>\n",
       "</table>\n",
       "</div>"
      ],
      "text/plain": [
       "               age          bmi     children       charges\n",
       "count  1338.000000  1338.000000  1338.000000   1338.000000\n",
       "mean     39.207025    30.663397     1.094918  13270.422265\n",
       "std      14.049960     6.098187     1.205493  12110.011237\n",
       "min      18.000000    15.960000     0.000000   1121.873900\n",
       "25%      27.000000    26.296250     0.000000   4740.287150\n",
       "50%      39.000000    30.400000     1.000000   9382.033000\n",
       "75%      51.000000    34.693750     2.000000  16639.912515\n",
       "max      64.000000    53.130000     5.000000  63770.428010"
      ]
     },
     "execution_count": 3,
     "metadata": {},
     "output_type": "execute_result"
    }
   ],
   "source": [
    "df.describe()"
   ]
  },
  {
   "cell_type": "code",
   "execution_count": 5,
   "id": "705bb163-261d-4fc0-bdde-73fcec74d6bf",
   "metadata": {},
   "outputs": [
    {
     "data": {
      "text/plain": [
       "(1338, 7)"
      ]
     },
     "execution_count": 5,
     "metadata": {},
     "output_type": "execute_result"
    }
   ],
   "source": [
    "df.shape"
   ]
  },
  {
   "cell_type": "code",
   "execution_count": 11,
   "id": "e14353a5-973c-4e47-b2d3-3aeccd682500",
   "metadata": {},
   "outputs": [
    {
     "data": {
      "text/plain": [
       "Index(['age', 'sex', 'bmi', 'children', 'smoker', 'region', 'charges'], dtype='object')"
      ]
     },
     "execution_count": 11,
     "metadata": {},
     "output_type": "execute_result"
    }
   ],
   "source": [
    "df.columns"
   ]
  },
  {
   "cell_type": "code",
   "execution_count": 13,
   "id": "4940c3e2-b6bf-496f-a77a-a1f31007c25d",
   "metadata": {},
   "outputs": [
    {
     "name": "stdout",
     "output_type": "stream",
     "text": [
      "age: 1338\n",
      "sex: 1338\n",
      "bmi: 1338\n",
      "children: 1338\n",
      "smoker: 1338\n",
      "region: 1338\n",
      "charges: 1338\n"
     ]
    }
   ],
   "source": [
    "df.age.count()\n",
    "\n",
    "print(f'age: {df.age.count()}')\n",
    "print(f'sex: {df.sex.count()}')\n",
    "print(f'bmi: {df.bmi.count()}')\n",
    "print(f'children: {df.children.count()}')\n",
    "print(f'smoker: {df.smoker.count()}')\n",
    "print(f'region: {df.region.count()}')\n",
    "print(f'charges: {df.charges.count()}')"
   ]
  },
  {
   "cell_type": "code",
   "execution_count": 15,
   "id": "80c044f3-deee-4920-9d1d-a43975dc79c2",
   "metadata": {},
   "outputs": [
    {
     "name": "stdout",
     "output_type": "stream",
     "text": [
      "age: 47\n",
      "sex: 2\n",
      "bmi: 548\n",
      "children: 6\n",
      "smoker: 2\n",
      "region: 4\n",
      "charges: 1337\n"
     ]
    }
   ],
   "source": [
    "print(f'age: {df.age.nunique()}')\n",
    "print(f'sex: {df.sex.nunique()}')\n",
    "print(f'bmi: {df.bmi.nunique()}')\n",
    "print(f'children: {df.children.nunique()}')\n",
    "print(f'smoker: {df.smoker.nunique()}')\n",
    "print(f'region: {df.region.nunique()}')\n",
    "print(f'charges: {df.charges.nunique()}')"
   ]
  },
  {
   "cell_type": "code",
   "execution_count": 19,
   "id": "e5ca7600-d5a0-4e19-8e4a-2ecaa18e2147",
   "metadata": {},
   "outputs": [
    {
     "name": "stdout",
     "output_type": "stream",
     "text": [
      "age: int64\n",
      "sex: object\n",
      "bmi: float64\n",
      "children: int64\n",
      "smoker: object\n",
      "region: object\n",
      "charges: float64\n"
     ]
    }
   ],
   "source": [
    "print(f'age: {df.age.dtype}')\n",
    "print(f'sex: {df.sex.dtype}')\n",
    "print(f'bmi: {df.bmi.dtype}')\n",
    "print(f'children: {df.children.dtype}')\n",
    "print(f'smoker: {df.smoker.dtype}')\n",
    "print(f'region: {df.region.dtype}')\n",
    "print(f'charges: {df.charges.dtype}')"
   ]
  },
  {
   "cell_type": "code",
   "execution_count": 21,
   "id": "a1a0f7f2-9129-461f-9f52-3016b7aebfbc",
   "metadata": {},
   "outputs": [
    {
     "name": "stdout",
     "output_type": "stream",
     "text": [
      "age: True\n",
      "sex: False\n",
      "bmi: True\n",
      "children: True\n",
      "smoker: False\n",
      "region: False\n",
      "charges: True\n"
     ]
    }
   ],
   "source": [
    "print(f'age: {pd.api.types.is_numeric_dtype(df.age)}')\n",
    "print(f'sex: {pd.api.types.is_numeric_dtype(df.sex)}')\n",
    "print(f'bmi: {pd.api.types.is_numeric_dtype(df.bmi)}')\n",
    "print(f'children: {pd.api.types.is_numeric_dtype(df.children)}')\n",
    "print(f'smoker: {pd.api.types.is_numeric_dtype(df.smoker)}')\n",
    "print(f'region: {pd.api.types.is_numeric_dtype(df.region)}')\n",
    "print(f'charges: {pd.api.types.is_numeric_dtype(df.charges)}')"
   ]
  },
  {
   "cell_type": "code",
   "execution_count": null,
   "id": "0849dcce-6a57-4a84-8394-6b54453827e9",
   "metadata": {},
   "outputs": [],
   "source": [
    "print(f'age: {df.age.sum()}')\n",
    "print(f'sex: {df.sex.sum()}')\n",
    "print(f'bmi: {df.bmi.sum()}')\n",
    "print(f'children: {df.children.sum()}')\n",
    "print(f'smoker: {df.smoker.sum()}')\n",
    "print(f'region: {df.region.sum()}')\n",
    "print(f'charges: {df.charges.sum()}')"
   ]
  },
  {
   "cell_type": "code",
   "execution_count": 29,
   "id": "659734f3-907c-4056-a7c1-9b83d701c3b6",
   "metadata": {},
   "outputs": [
    {
     "name": "stdout",
     "output_type": "stream",
     "text": [
      "1121.8739\n",
      "4740.28715\n",
      "9382.033\n",
      "16639.912515\n",
      "63770.42801\n",
      "13270.422265141257\n",
      "9382.033\n",
      "0    1639.5631\n",
      "Name: charges, dtype: float64\n"
     ]
    }
   ],
   "source": [
    "import numpy as np\n",
    "print(df.charges.min())\n",
    "print(df.charges.quantile(.25))\n",
    "print(df.charges.quantile(.50))\n",
    "print(df.charges.quantile(.75))\n",
    "print(df.charges.max())\n",
    "\n",
    "print(df.charges.mean())\n",
    "print(df.charges.median())\n",
    "print(df.charges.mode())"
   ]
  },
  {
   "cell_type": "code",
   "execution_count": 31,
   "id": "c0ae1ba0-5583-4862-9c0c-5e36c4345dda",
   "metadata": {},
   "outputs": [
    {
     "data": {
      "text/plain": [
       "12110.011236693994"
      ]
     },
     "execution_count": 31,
     "metadata": {},
     "output_type": "execute_result"
    }
   ],
   "source": [
    "df.charges.std()"
   ]
  },
  {
   "cell_type": "code",
   "execution_count": 33,
   "id": "09493334-7bd3-44bd-8fcc-05b469f26be8",
   "metadata": {},
   "outputs": [
    {
     "data": {
      "text/plain": [
       "12105.484975561605"
      ]
     },
     "execution_count": 33,
     "metadata": {},
     "output_type": "execute_result"
    }
   ],
   "source": [
    "np.std(df.charges)"
   ]
  },
  {
   "cell_type": "code",
   "execution_count": 37,
   "id": "f152c111-8c25-456e-82bb-115533dfd1b1",
   "metadata": {},
   "outputs": [
    {
     "name": "stdout",
     "output_type": "stream",
     "text": [
      "1.5158796580240383\n",
      "1.6062986532967916\n"
     ]
    }
   ],
   "source": [
    "from scipy.stats import kurtosis, skew\n",
    "\n",
    "print(skew(df.charges, bias=False))\n",
    "print(kurtosis(df.charges, bias=False))"
   ]
  },
  {
   "cell_type": "code",
   "execution_count": 41,
   "id": "3df77639-19d0-4716-ac91-4eced84e33ea",
   "metadata": {},
   "outputs": [
    {
     "name": "stdout",
     "output_type": "stream",
     "text": [
      "1.5158796580240388\n",
      "1.6062986532967907\n"
     ]
    }
   ],
   "source": [
    "print(df.charges.skew())\n",
    "print(df.charges.kurtosis())"
   ]
  },
  {
   "cell_type": "code",
   "execution_count": null,
   "id": "a1b65c74-a54d-478d-bb82-e70fb154e7b4",
   "metadata": {},
   "outputs": [],
   "source": []
  }
 ],
 "metadata": {
  "kernelspec": {
   "display_name": "Python 3 (ipykernel)",
   "language": "python",
   "name": "python3"
  },
  "language_info": {
   "codemirror_mode": {
    "name": "ipython",
    "version": 3
   },
   "file_extension": ".py",
   "mimetype": "text/x-python",
   "name": "python",
   "nbconvert_exporter": "python",
   "pygments_lexer": "ipython3",
   "version": "3.12.4"
  }
 },
 "nbformat": 4,
 "nbformat_minor": 5
}
